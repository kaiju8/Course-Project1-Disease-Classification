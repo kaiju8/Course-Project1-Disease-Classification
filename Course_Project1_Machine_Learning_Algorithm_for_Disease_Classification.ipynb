{
  "cells": [
    {
      "cell_type": "markdown",
      "metadata": {
        "id": "view-in-github",
        "colab_type": "text"
      },
      "source": [
        "<a href=\"https://colab.research.google.com/github/kaiju8/Course-Project1-Disease-Classification/blob/main/Course_Project1_Machine_Learning_Algorithm_for_Disease_Classification.ipynb\" target=\"_parent\"><img src=\"https://colab.research.google.com/assets/colab-badge.svg\" alt=\"Open In Colab\"/></a>"
      ]
    },
    {
      "cell_type": "markdown",
      "metadata": {
        "id": "s7JdQwsjmV3E"
      },
      "source": [
        "**About Dataset** \\\n",
        "Complete Dataset consists of 2 CSV files attached in the assignment. One of them is training and other is for testing your model. Each CSV file has 133 columns. 132 of these columns are symptoms that a person experiences and last column is the prognosis. These symptoms are mapped to 42 diseases you can classify these set of symptoms to. You are required to train your model on training data and test it on testing data. \\\n",
        "**Objectives**\n",
        "<ol>\n",
        "<li>Used any four supervised ML models and compare their performances.\n",
        "<li>Apply dimensional reduction technique (PCA) on data and see how the classification accuracy decreases as the dimension is reduced. Plot a graph between classification accuracy and number of PCA features.\n",
        "<li>Apply Random Forest algorithm and tune the hyper-parameters for getting the best classification accuracy."
      ]
    },
    {
      "cell_type": "markdown",
      "metadata": {
        "id": "ggmD1fU7aAUD"
      },
      "source": [
        "### Importing Data and Preprocessing"
      ]
    },
    {
      "cell_type": "code",
      "execution_count": 1,
      "metadata": {
        "id": "HaTFzVU0ad7j"
      },
      "outputs": [],
      "source": [
        "import pandas as pd\n",
        "import numpy as np\n",
        "\n",
        "import matplotlib.pyplot as plt"
      ]
    },
    {
      "cell_type": "code",
      "execution_count": 2,
      "metadata": {
        "id": "eAOTD6jaaDF6"
      },
      "outputs": [],
      "source": [
        "train_url = 'https://raw.githubusercontent.com/kaiju8/Course-Project1-Disease-Classification/main/Training.csv'\n",
        "test_url = 'https://raw.githubusercontent.com/kaiju8/Course-Project1-Disease-Classification/main/Testing.csv'"
      ]
    },
    {
      "cell_type": "code",
      "execution_count": 3,
      "metadata": {
        "colab": {
          "base_uri": "https://localhost:8080/",
          "height": 403
        },
        "id": "2eTBHEBRaNMP",
        "outputId": "382f29ae-d6e6-4f1e-ff02-e3fd696e094f"
      },
      "outputs": [
        {
          "output_type": "execute_result",
          "data": {
            "text/plain": [
              "      itching  skin_rash  nodal_skin_eruptions  continuous_sneezing  \\\n",
              "4915        0          0                     0                    0   \n",
              "4916        0          1                     0                    0   \n",
              "4917        0          0                     0                    0   \n",
              "4918        0          1                     0                    0   \n",
              "4919        0          1                     0                    0   \n",
              "\n",
              "      shivering  chills  joint_pain  stomach_pain  acidity  ulcers_on_tongue  \\\n",
              "4915          0       0           0             0        0                 0   \n",
              "4916          0       0           0             0        0                 0   \n",
              "4917          0       0           0             0        0                 0   \n",
              "4918          0       0           1             0        0                 0   \n",
              "4919          0       0           0             0        0                 0   \n",
              "\n",
              "      ...  scurring  skin_peeling  silver_like_dusting  small_dents_in_nails  \\\n",
              "4915  ...         0             0                    0                     0   \n",
              "4916  ...         1             0                    0                     0   \n",
              "4917  ...         0             0                    0                     0   \n",
              "4918  ...         0             1                    1                     1   \n",
              "4919  ...         0             0                    0                     0   \n",
              "\n",
              "      inflammatory_nails  blister  red_sore_around_nose  yellow_crust_ooze  \\\n",
              "4915                   0        0                     0                  0   \n",
              "4916                   0        0                     0                  0   \n",
              "4917                   0        0                     0                  0   \n",
              "4918                   1        0                     0                  0   \n",
              "4919                   0        1                     1                  1   \n",
              "\n",
              "                                    prognosis  Unnamed: 133  \n",
              "4915  (vertigo) Paroymsal  Positional Vertigo           NaN  \n",
              "4916                                     Acne           NaN  \n",
              "4917                  Urinary tract infection           NaN  \n",
              "4918                                Psoriasis           NaN  \n",
              "4919                                 Impetigo           NaN  \n",
              "\n",
              "[5 rows x 134 columns]"
            ],
            "text/html": [
              "\n",
              "  <div id=\"df-dfa3efb1-f626-4ed0-a9ad-75627a73259b\">\n",
              "    <div class=\"colab-df-container\">\n",
              "      <div>\n",
              "<style scoped>\n",
              "    .dataframe tbody tr th:only-of-type {\n",
              "        vertical-align: middle;\n",
              "    }\n",
              "\n",
              "    .dataframe tbody tr th {\n",
              "        vertical-align: top;\n",
              "    }\n",
              "\n",
              "    .dataframe thead th {\n",
              "        text-align: right;\n",
              "    }\n",
              "</style>\n",
              "<table border=\"1\" class=\"dataframe\">\n",
              "  <thead>\n",
              "    <tr style=\"text-align: right;\">\n",
              "      <th></th>\n",
              "      <th>itching</th>\n",
              "      <th>skin_rash</th>\n",
              "      <th>nodal_skin_eruptions</th>\n",
              "      <th>continuous_sneezing</th>\n",
              "      <th>shivering</th>\n",
              "      <th>chills</th>\n",
              "      <th>joint_pain</th>\n",
              "      <th>stomach_pain</th>\n",
              "      <th>acidity</th>\n",
              "      <th>ulcers_on_tongue</th>\n",
              "      <th>...</th>\n",
              "      <th>scurring</th>\n",
              "      <th>skin_peeling</th>\n",
              "      <th>silver_like_dusting</th>\n",
              "      <th>small_dents_in_nails</th>\n",
              "      <th>inflammatory_nails</th>\n",
              "      <th>blister</th>\n",
              "      <th>red_sore_around_nose</th>\n",
              "      <th>yellow_crust_ooze</th>\n",
              "      <th>prognosis</th>\n",
              "      <th>Unnamed: 133</th>\n",
              "    </tr>\n",
              "  </thead>\n",
              "  <tbody>\n",
              "    <tr>\n",
              "      <th>4915</th>\n",
              "      <td>0</td>\n",
              "      <td>0</td>\n",
              "      <td>0</td>\n",
              "      <td>0</td>\n",
              "      <td>0</td>\n",
              "      <td>0</td>\n",
              "      <td>0</td>\n",
              "      <td>0</td>\n",
              "      <td>0</td>\n",
              "      <td>0</td>\n",
              "      <td>...</td>\n",
              "      <td>0</td>\n",
              "      <td>0</td>\n",
              "      <td>0</td>\n",
              "      <td>0</td>\n",
              "      <td>0</td>\n",
              "      <td>0</td>\n",
              "      <td>0</td>\n",
              "      <td>0</td>\n",
              "      <td>(vertigo) Paroymsal  Positional Vertigo</td>\n",
              "      <td>NaN</td>\n",
              "    </tr>\n",
              "    <tr>\n",
              "      <th>4916</th>\n",
              "      <td>0</td>\n",
              "      <td>1</td>\n",
              "      <td>0</td>\n",
              "      <td>0</td>\n",
              "      <td>0</td>\n",
              "      <td>0</td>\n",
              "      <td>0</td>\n",
              "      <td>0</td>\n",
              "      <td>0</td>\n",
              "      <td>0</td>\n",
              "      <td>...</td>\n",
              "      <td>1</td>\n",
              "      <td>0</td>\n",
              "      <td>0</td>\n",
              "      <td>0</td>\n",
              "      <td>0</td>\n",
              "      <td>0</td>\n",
              "      <td>0</td>\n",
              "      <td>0</td>\n",
              "      <td>Acne</td>\n",
              "      <td>NaN</td>\n",
              "    </tr>\n",
              "    <tr>\n",
              "      <th>4917</th>\n",
              "      <td>0</td>\n",
              "      <td>0</td>\n",
              "      <td>0</td>\n",
              "      <td>0</td>\n",
              "      <td>0</td>\n",
              "      <td>0</td>\n",
              "      <td>0</td>\n",
              "      <td>0</td>\n",
              "      <td>0</td>\n",
              "      <td>0</td>\n",
              "      <td>...</td>\n",
              "      <td>0</td>\n",
              "      <td>0</td>\n",
              "      <td>0</td>\n",
              "      <td>0</td>\n",
              "      <td>0</td>\n",
              "      <td>0</td>\n",
              "      <td>0</td>\n",
              "      <td>0</td>\n",
              "      <td>Urinary tract infection</td>\n",
              "      <td>NaN</td>\n",
              "    </tr>\n",
              "    <tr>\n",
              "      <th>4918</th>\n",
              "      <td>0</td>\n",
              "      <td>1</td>\n",
              "      <td>0</td>\n",
              "      <td>0</td>\n",
              "      <td>0</td>\n",
              "      <td>0</td>\n",
              "      <td>1</td>\n",
              "      <td>0</td>\n",
              "      <td>0</td>\n",
              "      <td>0</td>\n",
              "      <td>...</td>\n",
              "      <td>0</td>\n",
              "      <td>1</td>\n",
              "      <td>1</td>\n",
              "      <td>1</td>\n",
              "      <td>1</td>\n",
              "      <td>0</td>\n",
              "      <td>0</td>\n",
              "      <td>0</td>\n",
              "      <td>Psoriasis</td>\n",
              "      <td>NaN</td>\n",
              "    </tr>\n",
              "    <tr>\n",
              "      <th>4919</th>\n",
              "      <td>0</td>\n",
              "      <td>1</td>\n",
              "      <td>0</td>\n",
              "      <td>0</td>\n",
              "      <td>0</td>\n",
              "      <td>0</td>\n",
              "      <td>0</td>\n",
              "      <td>0</td>\n",
              "      <td>0</td>\n",
              "      <td>0</td>\n",
              "      <td>...</td>\n",
              "      <td>0</td>\n",
              "      <td>0</td>\n",
              "      <td>0</td>\n",
              "      <td>0</td>\n",
              "      <td>0</td>\n",
              "      <td>1</td>\n",
              "      <td>1</td>\n",
              "      <td>1</td>\n",
              "      <td>Impetigo</td>\n",
              "      <td>NaN</td>\n",
              "    </tr>\n",
              "  </tbody>\n",
              "</table>\n",
              "<p>5 rows × 134 columns</p>\n",
              "</div>\n",
              "      <button class=\"colab-df-convert\" onclick=\"convertToInteractive('df-dfa3efb1-f626-4ed0-a9ad-75627a73259b')\"\n",
              "              title=\"Convert this dataframe to an interactive table.\"\n",
              "              style=\"display:none;\">\n",
              "        \n",
              "  <svg xmlns=\"http://www.w3.org/2000/svg\" height=\"24px\"viewBox=\"0 0 24 24\"\n",
              "       width=\"24px\">\n",
              "    <path d=\"M0 0h24v24H0V0z\" fill=\"none\"/>\n",
              "    <path d=\"M18.56 5.44l.94 2.06.94-2.06 2.06-.94-2.06-.94-.94-2.06-.94 2.06-2.06.94zm-11 1L8.5 8.5l.94-2.06 2.06-.94-2.06-.94L8.5 2.5l-.94 2.06-2.06.94zm10 10l.94 2.06.94-2.06 2.06-.94-2.06-.94-.94-2.06-.94 2.06-2.06.94z\"/><path d=\"M17.41 7.96l-1.37-1.37c-.4-.4-.92-.59-1.43-.59-.52 0-1.04.2-1.43.59L10.3 9.45l-7.72 7.72c-.78.78-.78 2.05 0 2.83L4 21.41c.39.39.9.59 1.41.59.51 0 1.02-.2 1.41-.59l7.78-7.78 2.81-2.81c.8-.78.8-2.07 0-2.86zM5.41 20L4 18.59l7.72-7.72 1.47 1.35L5.41 20z\"/>\n",
              "  </svg>\n",
              "      </button>\n",
              "      \n",
              "  <style>\n",
              "    .colab-df-container {\n",
              "      display:flex;\n",
              "      flex-wrap:wrap;\n",
              "      gap: 12px;\n",
              "    }\n",
              "\n",
              "    .colab-df-convert {\n",
              "      background-color: #E8F0FE;\n",
              "      border: none;\n",
              "      border-radius: 50%;\n",
              "      cursor: pointer;\n",
              "      display: none;\n",
              "      fill: #1967D2;\n",
              "      height: 32px;\n",
              "      padding: 0 0 0 0;\n",
              "      width: 32px;\n",
              "    }\n",
              "\n",
              "    .colab-df-convert:hover {\n",
              "      background-color: #E2EBFA;\n",
              "      box-shadow: 0px 1px 2px rgba(60, 64, 67, 0.3), 0px 1px 3px 1px rgba(60, 64, 67, 0.15);\n",
              "      fill: #174EA6;\n",
              "    }\n",
              "\n",
              "    [theme=dark] .colab-df-convert {\n",
              "      background-color: #3B4455;\n",
              "      fill: #D2E3FC;\n",
              "    }\n",
              "\n",
              "    [theme=dark] .colab-df-convert:hover {\n",
              "      background-color: #434B5C;\n",
              "      box-shadow: 0px 1px 3px 1px rgba(0, 0, 0, 0.15);\n",
              "      filter: drop-shadow(0px 1px 2px rgba(0, 0, 0, 0.3));\n",
              "      fill: #FFFFFF;\n",
              "    }\n",
              "  </style>\n",
              "\n",
              "      <script>\n",
              "        const buttonEl =\n",
              "          document.querySelector('#df-dfa3efb1-f626-4ed0-a9ad-75627a73259b button.colab-df-convert');\n",
              "        buttonEl.style.display =\n",
              "          google.colab.kernel.accessAllowed ? 'block' : 'none';\n",
              "\n",
              "        async function convertToInteractive(key) {\n",
              "          const element = document.querySelector('#df-dfa3efb1-f626-4ed0-a9ad-75627a73259b');\n",
              "          const dataTable =\n",
              "            await google.colab.kernel.invokeFunction('convertToInteractive',\n",
              "                                                     [key], {});\n",
              "          if (!dataTable) return;\n",
              "\n",
              "          const docLinkHtml = 'Like what you see? Visit the ' +\n",
              "            '<a target=\"_blank\" href=https://colab.research.google.com/notebooks/data_table.ipynb>data table notebook</a>'\n",
              "            + ' to learn more about interactive tables.';\n",
              "          element.innerHTML = '';\n",
              "          dataTable['output_type'] = 'display_data';\n",
              "          await google.colab.output.renderOutput(dataTable, element);\n",
              "          const docLink = document.createElement('div');\n",
              "          docLink.innerHTML = docLinkHtml;\n",
              "          element.appendChild(docLink);\n",
              "        }\n",
              "      </script>\n",
              "    </div>\n",
              "  </div>\n",
              "  "
            ]
          },
          "metadata": {},
          "execution_count": 3
        }
      ],
      "source": [
        "train_data = pd.read_csv(train_url)\n",
        "train_data.tail()"
      ]
    },
    {
      "cell_type": "code",
      "execution_count": 4,
      "metadata": {
        "colab": {
          "base_uri": "https://localhost:8080/",
          "height": 351
        },
        "id": "yrDsilIQaWv7",
        "outputId": "9d7fa994-16f9-4048-c07a-82944df476ac"
      },
      "outputs": [
        {
          "output_type": "execute_result",
          "data": {
            "text/plain": [
              "    itching  skin_rash  nodal_skin_eruptions  continuous_sneezing  shivering  \\\n",
              "37        0          1                     0                    0          0   \n",
              "38        0          0                     0                    0          0   \n",
              "39        0          1                     0                    0          0   \n",
              "40        0          1                     0                    0          0   \n",
              "41        1          1                     0                    0          0   \n",
              "\n",
              "    chills  joint_pain  stomach_pain  acidity  ulcers_on_tongue  ...  \\\n",
              "37       0           0             0        0                 0  ...   \n",
              "38       0           0             0        0                 0  ...   \n",
              "39       0           1             0        0                 0  ...   \n",
              "40       0           0             0        0                 0  ...   \n",
              "41       0           0             0        0                 0  ...   \n",
              "\n",
              "    blackheads  scurring  skin_peeling  silver_like_dusting  \\\n",
              "37           1         1             0                    0   \n",
              "38           0         0             0                    0   \n",
              "39           0         0             1                    1   \n",
              "40           0         0             0                    0   \n",
              "41           0         0             1                    0   \n",
              "\n",
              "    small_dents_in_nails  inflammatory_nails  blister  red_sore_around_nose  \\\n",
              "37                     0                   0        0                     0   \n",
              "38                     0                   0        0                     0   \n",
              "39                     1                   1        0                     0   \n",
              "40                     0                   0        1                     1   \n",
              "41                     0                   0        0                     1   \n",
              "\n",
              "    yellow_crust_ooze                prognosis  \n",
              "37                  0                     Acne  \n",
              "38                  0  Urinary tract infection  \n",
              "39                  0                Psoriasis  \n",
              "40                  1                 Impetigo  \n",
              "41                  0         Fungal infection  \n",
              "\n",
              "[5 rows x 133 columns]"
            ],
            "text/html": [
              "\n",
              "  <div id=\"df-c1763427-e34d-4635-a349-6dc3ea9da781\">\n",
              "    <div class=\"colab-df-container\">\n",
              "      <div>\n",
              "<style scoped>\n",
              "    .dataframe tbody tr th:only-of-type {\n",
              "        vertical-align: middle;\n",
              "    }\n",
              "\n",
              "    .dataframe tbody tr th {\n",
              "        vertical-align: top;\n",
              "    }\n",
              "\n",
              "    .dataframe thead th {\n",
              "        text-align: right;\n",
              "    }\n",
              "</style>\n",
              "<table border=\"1\" class=\"dataframe\">\n",
              "  <thead>\n",
              "    <tr style=\"text-align: right;\">\n",
              "      <th></th>\n",
              "      <th>itching</th>\n",
              "      <th>skin_rash</th>\n",
              "      <th>nodal_skin_eruptions</th>\n",
              "      <th>continuous_sneezing</th>\n",
              "      <th>shivering</th>\n",
              "      <th>chills</th>\n",
              "      <th>joint_pain</th>\n",
              "      <th>stomach_pain</th>\n",
              "      <th>acidity</th>\n",
              "      <th>ulcers_on_tongue</th>\n",
              "      <th>...</th>\n",
              "      <th>blackheads</th>\n",
              "      <th>scurring</th>\n",
              "      <th>skin_peeling</th>\n",
              "      <th>silver_like_dusting</th>\n",
              "      <th>small_dents_in_nails</th>\n",
              "      <th>inflammatory_nails</th>\n",
              "      <th>blister</th>\n",
              "      <th>red_sore_around_nose</th>\n",
              "      <th>yellow_crust_ooze</th>\n",
              "      <th>prognosis</th>\n",
              "    </tr>\n",
              "  </thead>\n",
              "  <tbody>\n",
              "    <tr>\n",
              "      <th>37</th>\n",
              "      <td>0</td>\n",
              "      <td>1</td>\n",
              "      <td>0</td>\n",
              "      <td>0</td>\n",
              "      <td>0</td>\n",
              "      <td>0</td>\n",
              "      <td>0</td>\n",
              "      <td>0</td>\n",
              "      <td>0</td>\n",
              "      <td>0</td>\n",
              "      <td>...</td>\n",
              "      <td>1</td>\n",
              "      <td>1</td>\n",
              "      <td>0</td>\n",
              "      <td>0</td>\n",
              "      <td>0</td>\n",
              "      <td>0</td>\n",
              "      <td>0</td>\n",
              "      <td>0</td>\n",
              "      <td>0</td>\n",
              "      <td>Acne</td>\n",
              "    </tr>\n",
              "    <tr>\n",
              "      <th>38</th>\n",
              "      <td>0</td>\n",
              "      <td>0</td>\n",
              "      <td>0</td>\n",
              "      <td>0</td>\n",
              "      <td>0</td>\n",
              "      <td>0</td>\n",
              "      <td>0</td>\n",
              "      <td>0</td>\n",
              "      <td>0</td>\n",
              "      <td>0</td>\n",
              "      <td>...</td>\n",
              "      <td>0</td>\n",
              "      <td>0</td>\n",
              "      <td>0</td>\n",
              "      <td>0</td>\n",
              "      <td>0</td>\n",
              "      <td>0</td>\n",
              "      <td>0</td>\n",
              "      <td>0</td>\n",
              "      <td>0</td>\n",
              "      <td>Urinary tract infection</td>\n",
              "    </tr>\n",
              "    <tr>\n",
              "      <th>39</th>\n",
              "      <td>0</td>\n",
              "      <td>1</td>\n",
              "      <td>0</td>\n",
              "      <td>0</td>\n",
              "      <td>0</td>\n",
              "      <td>0</td>\n",
              "      <td>1</td>\n",
              "      <td>0</td>\n",
              "      <td>0</td>\n",
              "      <td>0</td>\n",
              "      <td>...</td>\n",
              "      <td>0</td>\n",
              "      <td>0</td>\n",
              "      <td>1</td>\n",
              "      <td>1</td>\n",
              "      <td>1</td>\n",
              "      <td>1</td>\n",
              "      <td>0</td>\n",
              "      <td>0</td>\n",
              "      <td>0</td>\n",
              "      <td>Psoriasis</td>\n",
              "    </tr>\n",
              "    <tr>\n",
              "      <th>40</th>\n",
              "      <td>0</td>\n",
              "      <td>1</td>\n",
              "      <td>0</td>\n",
              "      <td>0</td>\n",
              "      <td>0</td>\n",
              "      <td>0</td>\n",
              "      <td>0</td>\n",
              "      <td>0</td>\n",
              "      <td>0</td>\n",
              "      <td>0</td>\n",
              "      <td>...</td>\n",
              "      <td>0</td>\n",
              "      <td>0</td>\n",
              "      <td>0</td>\n",
              "      <td>0</td>\n",
              "      <td>0</td>\n",
              "      <td>0</td>\n",
              "      <td>1</td>\n",
              "      <td>1</td>\n",
              "      <td>1</td>\n",
              "      <td>Impetigo</td>\n",
              "    </tr>\n",
              "    <tr>\n",
              "      <th>41</th>\n",
              "      <td>1</td>\n",
              "      <td>1</td>\n",
              "      <td>0</td>\n",
              "      <td>0</td>\n",
              "      <td>0</td>\n",
              "      <td>0</td>\n",
              "      <td>0</td>\n",
              "      <td>0</td>\n",
              "      <td>0</td>\n",
              "      <td>0</td>\n",
              "      <td>...</td>\n",
              "      <td>0</td>\n",
              "      <td>0</td>\n",
              "      <td>1</td>\n",
              "      <td>0</td>\n",
              "      <td>0</td>\n",
              "      <td>0</td>\n",
              "      <td>0</td>\n",
              "      <td>1</td>\n",
              "      <td>0</td>\n",
              "      <td>Fungal infection</td>\n",
              "    </tr>\n",
              "  </tbody>\n",
              "</table>\n",
              "<p>5 rows × 133 columns</p>\n",
              "</div>\n",
              "      <button class=\"colab-df-convert\" onclick=\"convertToInteractive('df-c1763427-e34d-4635-a349-6dc3ea9da781')\"\n",
              "              title=\"Convert this dataframe to an interactive table.\"\n",
              "              style=\"display:none;\">\n",
              "        \n",
              "  <svg xmlns=\"http://www.w3.org/2000/svg\" height=\"24px\"viewBox=\"0 0 24 24\"\n",
              "       width=\"24px\">\n",
              "    <path d=\"M0 0h24v24H0V0z\" fill=\"none\"/>\n",
              "    <path d=\"M18.56 5.44l.94 2.06.94-2.06 2.06-.94-2.06-.94-.94-2.06-.94 2.06-2.06.94zm-11 1L8.5 8.5l.94-2.06 2.06-.94-2.06-.94L8.5 2.5l-.94 2.06-2.06.94zm10 10l.94 2.06.94-2.06 2.06-.94-2.06-.94-.94-2.06-.94 2.06-2.06.94z\"/><path d=\"M17.41 7.96l-1.37-1.37c-.4-.4-.92-.59-1.43-.59-.52 0-1.04.2-1.43.59L10.3 9.45l-7.72 7.72c-.78.78-.78 2.05 0 2.83L4 21.41c.39.39.9.59 1.41.59.51 0 1.02-.2 1.41-.59l7.78-7.78 2.81-2.81c.8-.78.8-2.07 0-2.86zM5.41 20L4 18.59l7.72-7.72 1.47 1.35L5.41 20z\"/>\n",
              "  </svg>\n",
              "      </button>\n",
              "      \n",
              "  <style>\n",
              "    .colab-df-container {\n",
              "      display:flex;\n",
              "      flex-wrap:wrap;\n",
              "      gap: 12px;\n",
              "    }\n",
              "\n",
              "    .colab-df-convert {\n",
              "      background-color: #E8F0FE;\n",
              "      border: none;\n",
              "      border-radius: 50%;\n",
              "      cursor: pointer;\n",
              "      display: none;\n",
              "      fill: #1967D2;\n",
              "      height: 32px;\n",
              "      padding: 0 0 0 0;\n",
              "      width: 32px;\n",
              "    }\n",
              "\n",
              "    .colab-df-convert:hover {\n",
              "      background-color: #E2EBFA;\n",
              "      box-shadow: 0px 1px 2px rgba(60, 64, 67, 0.3), 0px 1px 3px 1px rgba(60, 64, 67, 0.15);\n",
              "      fill: #174EA6;\n",
              "    }\n",
              "\n",
              "    [theme=dark] .colab-df-convert {\n",
              "      background-color: #3B4455;\n",
              "      fill: #D2E3FC;\n",
              "    }\n",
              "\n",
              "    [theme=dark] .colab-df-convert:hover {\n",
              "      background-color: #434B5C;\n",
              "      box-shadow: 0px 1px 3px 1px rgba(0, 0, 0, 0.15);\n",
              "      filter: drop-shadow(0px 1px 2px rgba(0, 0, 0, 0.3));\n",
              "      fill: #FFFFFF;\n",
              "    }\n",
              "  </style>\n",
              "\n",
              "      <script>\n",
              "        const buttonEl =\n",
              "          document.querySelector('#df-c1763427-e34d-4635-a349-6dc3ea9da781 button.colab-df-convert');\n",
              "        buttonEl.style.display =\n",
              "          google.colab.kernel.accessAllowed ? 'block' : 'none';\n",
              "\n",
              "        async function convertToInteractive(key) {\n",
              "          const element = document.querySelector('#df-c1763427-e34d-4635-a349-6dc3ea9da781');\n",
              "          const dataTable =\n",
              "            await google.colab.kernel.invokeFunction('convertToInteractive',\n",
              "                                                     [key], {});\n",
              "          if (!dataTable) return;\n",
              "\n",
              "          const docLinkHtml = 'Like what you see? Visit the ' +\n",
              "            '<a target=\"_blank\" href=https://colab.research.google.com/notebooks/data_table.ipynb>data table notebook</a>'\n",
              "            + ' to learn more about interactive tables.';\n",
              "          element.innerHTML = '';\n",
              "          dataTable['output_type'] = 'display_data';\n",
              "          await google.colab.output.renderOutput(dataTable, element);\n",
              "          const docLink = document.createElement('div');\n",
              "          docLink.innerHTML = docLinkHtml;\n",
              "          element.appendChild(docLink);\n",
              "        }\n",
              "      </script>\n",
              "    </div>\n",
              "  </div>\n",
              "  "
            ]
          },
          "metadata": {},
          "execution_count": 4
        }
      ],
      "source": [
        "test_data = pd.read_csv(test_url)\n",
        "test_data.tail()"
      ]
    },
    {
      "cell_type": "code",
      "execution_count": 5,
      "metadata": {
        "colab": {
          "base_uri": "https://localhost:8080/"
        },
        "id": "TyGpvsQ3bPmh",
        "outputId": "8544aede-179d-46e0-d85d-2c78b7a3ab62"
      },
      "outputs": [
        {
          "output_type": "execute_result",
          "data": {
            "text/plain": [
              "Series([], Name: Unnamed: 133, dtype: int64)"
            ]
          },
          "metadata": {},
          "execution_count": 5
        }
      ],
      "source": [
        "train_data['Unnamed: 133'].value_counts()"
      ]
    },
    {
      "cell_type": "code",
      "execution_count": 6,
      "metadata": {
        "id": "-gdXS5ZY76N-"
      },
      "outputs": [],
      "source": [
        "train_data.drop(['Unnamed: 133'], axis = 1, inplace = True) "
      ]
    },
    {
      "cell_type": "code",
      "execution_count": 7,
      "metadata": {
        "id": "lybmwUiQGCav"
      },
      "outputs": [],
      "source": [
        "X = train_data.drop('prognosis', axis=1)\n",
        "y = train_data['prognosis']\n",
        "\n",
        "from sklearn.model_selection import train_test_split\n",
        "\n",
        "X_train, X_val, y_train, y_val = train_test_split(X, y, test_size=0.25, random_state=42, stratify=y)\n",
        "\n",
        "X_test = test_data.drop('prognosis', axis=1)\n",
        "y_test = test_data['prognosis'] "
      ]
    },
    {
      "cell_type": "code",
      "execution_count": 8,
      "metadata": {
        "id": "KbnN3AUlD2Lc"
      },
      "outputs": [],
      "source": [
        "n_classes, n_features = X.shape\n",
        "n_classes = y.nunique()"
      ]
    },
    {
      "cell_type": "code",
      "execution_count": 9,
      "metadata": {
        "id": "OV_VsvRVAUcn"
      },
      "outputs": [],
      "source": [
        "from sklearn.preprocessing import StandardScaler\n",
        "\n",
        "sc = StandardScaler()\n",
        "X_train = sc.fit_transform(X_train)\n",
        "X_val = sc.transform(X_val)\n",
        "X_test = sc.transform(X_test)"
      ]
    },
    {
      "cell_type": "markdown",
      "metadata": {
        "id": "2kRsU3rEnh_x"
      },
      "source": [
        "## Objective 1 & 2\n",
        "Used any four supervised ML models and compare their performances. \\\\\n",
        "Apply dimensional reduction technique (PCA) on data and see how the classification accuracy decreases as the dimension is reduced. Plot a graph between classification accuracy and number of PCA features."
      ]
    },
    {
      "cell_type": "code",
      "execution_count": 10,
      "metadata": {
        "id": "r4UrNqbODn8r"
      },
      "outputs": [],
      "source": [
        "from sklearn.decomposition import PCA\n",
        "\n",
        "import warnings\n",
        "warnings.filterwarnings(\"ignore\")\n",
        "\n",
        "import copy\n",
        "\n",
        "from sklearn.metrics import roc_auc_score"
      ]
    },
    {
      "cell_type": "code",
      "execution_count": 11,
      "metadata": {
        "id": "fbYlgSCvP8uu"
      },
      "outputs": [],
      "source": [
        "def best_model(model, N=n_features):\n",
        "  accuracies = []\n",
        "\n",
        "  best_accuracy = 0\n",
        "  best_component = 1\n",
        "\n",
        "  for i in range(1, N):\n",
        "    pca = PCA(n_components=i)\n",
        "    X_train_pca = pca.fit_transform(X_train)\n",
        "    X_val_pca = pca.transform(X_val)\n",
        "    X_test_pca = pca.transform(X_test)\n",
        "\n",
        "    model.fit(X_train_pca,y_train)\n",
        "\n",
        "    y_train_proba = model.predict_proba(X_train_pca)\n",
        "    y_val_proba = model.predict_proba(X_val_pca)\n",
        "    y_test_proba = model.predict_proba(X_test_pca)\n",
        "\n",
        "    train_accuracy = roc_auc_score(y_train,  y_train_proba, multi_class='ovr')\n",
        "    val_accuracy = roc_auc_score(y_val,  y_val_proba, multi_class='ovr')\n",
        "    test_accuracy = roc_auc_score(y_test,  y_test_proba, multi_class='ovr')\n",
        "\n",
        "    if (i< 15):\n",
        "      print(\"Validation Accuracy with\", i , \" components\", model.score(X_val_pca, y_val))\n",
        "    accuracies.append([i, train_accuracy, val_accuracy, test_accuracy])\n",
        "\n",
        "    if (val_accuracy > best_accuracy):\n",
        "      best_model = copy.deepcopy(model)\n",
        "      best_component = i\n",
        "      best_accuracy = val_accuracy\n",
        "    \n",
        "  df = pd.DataFrame(accuracies, columns=['Number of Components', 'Training Accuracy', 'Validation Accuracy', 'Test Accuracy'])\n",
        "  df.plot(x = 'Number of Components', y = ['Training Accuracy', 'Validation Accuracy', 'Test Accuracy'], kind = 'line', grid = True, xlabel = 'Number of PCA features', ylabel = 'Accuracy')\n",
        "\n",
        "  return (best_component, best_model, df)"
      ]
    },
    {
      "cell_type": "markdown",
      "metadata": {
        "id": "yY-k6CeddWzV"
      },
      "source": [
        "#### 1. Logistic Regression"
      ]
    },
    {
      "cell_type": "code",
      "execution_count": 12,
      "metadata": {
        "colab": {
          "base_uri": "https://localhost:8080/",
          "height": 534
        },
        "id": "N9Tnwh-djeqD",
        "outputId": "e591bec5-888f-4ce6-e583-a44188037e93"
      },
      "outputs": [
        {
          "output_type": "stream",
          "name": "stdout",
          "text": [
            "Validation Accuracy with 1  components 0.49349593495934957\n",
            "Validation Accuracy with 2  components 0.8276422764227642\n",
            "Validation Accuracy with 3  components 0.9479674796747968\n",
            "Validation Accuracy with 4  components 0.9658536585365853\n",
            "Validation Accuracy with 5  components 0.9772357723577236\n",
            "Validation Accuracy with 6  components 0.983739837398374\n",
            "Validation Accuracy with 7  components 0.9967479674796748\n",
            "Validation Accuracy with 8  components 1.0\n",
            "Validation Accuracy with 9  components 1.0\n",
            "Validation Accuracy with 10  components 1.0\n",
            "Validation Accuracy with 11  components 1.0\n",
            "Validation Accuracy with 12  components 1.0\n",
            "Validation Accuracy with 13  components 1.0\n",
            "Validation Accuracy with 14  components 1.0\n"
          ]
        },
        {
          "output_type": "display_data",
          "data": {
            "text/plain": [
              "<Figure size 432x288 with 1 Axes>"
            ],
            "image/png": "[encoded data removed]"
          },
          "metadata": {
            "needs_background": "light"
          }
        }
      ],
      "source": [
        "from sklearn.linear_model import LogisticRegression\n",
        "\n",
        "logreg = LogisticRegression()\n",
        "\n",
        "k_logreg, best_logreg, logreg_acc = best_model(logreg,20)"
      ]
    },
    {
      "cell_type": "markdown",
      "metadata": {
        "id": "SrvZUZrSlco9"
      },
      "source": [
        "#### 2. LDA"
      ]
    },
    {
      "cell_type": "code",
      "execution_count": 13,
      "metadata": {
        "colab": {
          "base_uri": "https://localhost:8080/",
          "height": 534
        },
        "id": "cb5amrK4lgZz",
        "outputId": "34e75542-4fd1-4a5d-aecf-b036c16a9a0d"
      },
      "outputs": [
        {
          "output_type": "stream",
          "name": "stdout",
          "text": [
            "Validation Accuracy with 1  components 0.6593495934959349\n",
            "Validation Accuracy with 2  components 0.8398373983739837\n",
            "Validation Accuracy with 3  components 0.9284552845528455\n",
            "Validation Accuracy with 4  components 0.9479674796747968\n",
            "Validation Accuracy with 5  components 0.959349593495935\n",
            "Validation Accuracy with 6  components 0.9715447154471545\n",
            "Validation Accuracy with 7  components 0.9813008130081301\n",
            "Validation Accuracy with 8  components 0.991869918699187\n",
            "Validation Accuracy with 9  components 0.9975609756097561\n",
            "Validation Accuracy with 10  components 0.9975609756097561\n",
            "Validation Accuracy with 11  components 0.9975609756097561\n",
            "Validation Accuracy with 12  components 0.9975609756097561\n",
            "Validation Accuracy with 13  components 0.9975609756097561\n",
            "Validation Accuracy with 14  components 0.9975609756097561\n"
          ]
        },
        {
          "output_type": "display_data",
          "data": {
            "text/plain": [
              "<Figure size 432x288 with 1 Axes>"
            ],
            "image/png": "[encoded data removed]"
          },
          "metadata": {
            "needs_background": "light"
          }
        }
      ],
      "source": [
        "from sklearn.discriminant_analysis import LinearDiscriminantAnalysis\n",
        "\n",
        "lda = LinearDiscriminantAnalysis()\n",
        "\n",
        "k_lda, best_lda, lda_acc = best_model(lda,20)"
      ]
    },
    {
      "cell_type": "markdown",
      "metadata": {
        "id": "17wiRwMTmPZ-"
      },
      "source": [
        "#### 3. Naive Bayes Classifier"
      ]
    },
    {
      "cell_type": "code",
      "execution_count": 14,
      "metadata": {
        "colab": {
          "base_uri": "https://localhost:8080/",
          "height": 534
        },
        "id": "sy_K5lVPmE9s",
        "outputId": "20c411fd-61b3-4cee-b934-6163774c4e06"
      },
      "outputs": [
        {
          "output_type": "stream",
          "name": "stdout",
          "text": [
            "Validation Accuracy with 1  components 0.6097560975609756\n",
            "Validation Accuracy with 2  components 0.8983739837398373\n",
            "Validation Accuracy with 3  components 0.943089430894309\n",
            "Validation Accuracy with 4  components 0.9585365853658536\n",
            "Validation Accuracy with 5  components 0.973170731707317\n",
            "Validation Accuracy with 6  components 0.975609756097561\n",
            "Validation Accuracy with 7  components 0.991869918699187\n",
            "Validation Accuracy with 8  components 0.9975609756097561\n",
            "Validation Accuracy with 9  components 0.9991869918699187\n",
            "Validation Accuracy with 10  components 1.0\n",
            "Validation Accuracy with 11  components 1.0\n",
            "Validation Accuracy with 12  components 1.0\n",
            "Validation Accuracy with 13  components 1.0\n",
            "Validation Accuracy with 14  components 1.0\n"
          ]
        },
        {
          "output_type": "display_data",
          "data": {
            "text/plain": [
              "<Figure size 432x288 with 1 Axes>"
            ],
            "image/png": "[encoded data removed]"
          },
          "metadata": {
            "needs_background": "light"
          }
        }
      ],
      "source": [
        "from sklearn.naive_bayes import GaussianNB\n",
        "\n",
        "nb = GaussianNB()\n",
        "\n",
        "k_nb, best_nb, nb_acc = best_model(nb,20)"
      ]
    },
    {
      "cell_type": "markdown",
      "metadata": {
        "id": "P0mc3LJOm7QM"
      },
      "source": [
        "#### 4. KNN"
      ]
    },
    {
      "cell_type": "code",
      "execution_count": 15,
      "metadata": {
        "colab": {
          "base_uri": "https://localhost:8080/",
          "height": 534
        },
        "id": "HOIDaanxm1Xy",
        "outputId": "0117ede9-1a6d-4e39-f533-a54c6c486b29"
      },
      "outputs": [
        {
          "output_type": "stream",
          "name": "stdout",
          "text": [
            "Validation Accuracy with 1  components 0.8853658536585366\n",
            "Validation Accuracy with 2  components 1.0\n",
            "Validation Accuracy with 3  components 1.0\n",
            "Validation Accuracy with 4  components 1.0\n",
            "Validation Accuracy with 5  components 1.0\n",
            "Validation Accuracy with 6  components 1.0\n",
            "Validation Accuracy with 7  components 1.0\n",
            "Validation Accuracy with 8  components 1.0\n",
            "Validation Accuracy with 9  components 1.0\n",
            "Validation Accuracy with 10  components 1.0\n",
            "Validation Accuracy with 11  components 1.0\n",
            "Validation Accuracy with 12  components 1.0\n",
            "Validation Accuracy with 13  components 1.0\n",
            "Validation Accuracy with 14  components 1.0\n"
          ]
        },
        {
          "output_type": "display_data",
          "data": {
            "text/plain": [
              "<Figure size 432x288 with 1 Axes>"
            ],
            "image/png": "[encoded data removed]"
          },
          "metadata": {
            "needs_background": "light"
          }
        }
      ],
      "source": [
        "from sklearn.neighbors import KNeighborsClassifier\n",
        "\n",
        "knn = KNeighborsClassifier()\n",
        "\n",
        "k_knn, best_knn, knn_acc = best_model(knn,20)"
      ]
    },
    {
      "cell_type": "markdown",
      "metadata": {
        "id": "Z0SXak1xngt-"
      },
      "source": [
        "#### 5. SVM(Linear)"
      ]
    },
    {
      "cell_type": "code",
      "execution_count": 16,
      "metadata": {
        "colab": {
          "base_uri": "https://localhost:8080/",
          "height": 534
        },
        "id": "bqnxZ_Phn5at",
        "outputId": "730e8a66-8ec5-42b5-f49b-bb49c14dd48f"
      },
      "outputs": [
        {
          "output_type": "stream",
          "name": "stdout",
          "text": [
            "Validation Accuracy with 1  components 0.532520325203252\n",
            "Validation Accuracy with 2  components 0.8308943089430895\n",
            "Validation Accuracy with 3  components 0.9260162601626016\n",
            "Validation Accuracy with 4  components 0.9520325203252032\n",
            "Validation Accuracy with 5  components 0.9739837398373984\n",
            "Validation Accuracy with 6  components 0.991869918699187\n",
            "Validation Accuracy with 7  components 0.9951219512195122\n",
            "Validation Accuracy with 8  components 0.9983739837398374\n",
            "Validation Accuracy with 9  components 1.0\n",
            "Validation Accuracy with 10  components 1.0\n",
            "Validation Accuracy with 11  components 1.0\n",
            "Validation Accuracy with 12  components 1.0\n",
            "Validation Accuracy with 13  components 1.0\n",
            "Validation Accuracy with 14  components 1.0\n"
          ]
        },
        {
          "output_type": "display_data",
          "data": {
            "text/plain": [
              "<Figure size 432x288 with 1 Axes>"
            ],
            "image/png": "[encoded data removed]"
          },
          "metadata": {
            "needs_background": "light"
          }
        }
      ],
      "source": [
        "from sklearn.svm import SVC\n",
        "\n",
        "svcl = SVC(kernel='linear', probability = True)\n",
        "\n",
        "k_svcl, best_svcl, svcl_acc = best_model(svcl,20)"
      ]
    },
    {
      "cell_type": "markdown",
      "metadata": {
        "id": "hJBLklrwohTz"
      },
      "source": [
        "#### 6. Decision Tree"
      ]
    },
    {
      "cell_type": "code",
      "execution_count": 17,
      "metadata": {
        "colab": {
          "base_uri": "https://localhost:8080/",
          "height": 534
        },
        "id": "6iDf8034oZCJ",
        "outputId": "aaec4c8e-2a7e-4144-e38b-8694778c413c"
      },
      "outputs": [
        {
          "output_type": "stream",
          "name": "stdout",
          "text": [
            "Validation Accuracy with 1  components 0.9235772357723577\n",
            "Validation Accuracy with 2  components 0.9926829268292683\n",
            "Validation Accuracy with 3  components 0.9975609756097561\n",
            "Validation Accuracy with 4  components 0.9975609756097561\n",
            "Validation Accuracy with 5  components 0.9772357723577236\n",
            "Validation Accuracy with 6  components 0.9707317073170731\n",
            "Validation Accuracy with 7  components 0.9747967479674797\n",
            "Validation Accuracy with 8  components 0.9764227642276423\n",
            "Validation Accuracy with 9  components 0.9934959349593496\n",
            "Validation Accuracy with 10  components 1.0\n",
            "Validation Accuracy with 11  components 1.0\n",
            "Validation Accuracy with 12  components 1.0\n",
            "Validation Accuracy with 13  components 1.0\n",
            "Validation Accuracy with 14  components 0.9910569105691057\n"
          ]
        },
        {
          "output_type": "display_data",
          "data": {
            "text/plain": [
              "<Figure size 432x288 with 1 Axes>"
            ],
            "image/png": "[encoded data removed]"
          },
          "metadata": {
            "needs_background": "light"
          }
        }
      ],
      "source": [
        "from sklearn.tree import DecisionTreeClassifier\n",
        "\n",
        "dt = DecisionTreeClassifier()\n",
        "\n",
        "k_dt, best_dt, dt_acc = best_model(dt,20)"
      ]
    },
    {
      "cell_type": "markdown",
      "metadata": {
        "id": "TPSbxa9MyfX-"
      },
      "source": [
        "#### Final Comparison"
      ]
    },
    {
      "cell_type": "code",
      "execution_count": 18,
      "metadata": {
        "id": "qs4W8grzzjwE"
      },
      "outputs": [],
      "source": [
        "methods = [\"Logistic Reg.\", \"LDA\", \"Naive Bayes\", \"KNN\", \"SVC\", \"Dec. Tr.\"]\n",
        "\n",
        "train = [logreg_acc.iloc[k_logreg-1][1],\n",
        "        lda_acc.iloc[k_lda-1][1],\n",
        "        nb_acc.iloc[k_nb-1][1],\n",
        "        knn_acc.iloc[k_knn-1][1],\n",
        "        svcl_acc.iloc[k_svcl-1][1],\n",
        "        dt_acc.iloc[k_dt-1][1]\n",
        "]\n",
        "val = [logreg_acc.iloc[k_logreg-1][2],\n",
        "        lda_acc.iloc[k_lda-1][2],\n",
        "        nb_acc.iloc[k_nb-1][2],\n",
        "        knn_acc.iloc[k_knn-1][2],\n",
        "        svcl_acc.iloc[k_svcl-1][2],\n",
        "        dt_acc.iloc[k_dt-1][2]\n",
        "]\n",
        "test = [logreg_acc.iloc[k_logreg-1][3],\n",
        "        lda_acc.iloc[k_lda-1][3],\n",
        "        nb_acc.iloc[k_nb-1][3],\n",
        "        knn_acc.iloc[k_knn-1][3],\n",
        "        svcl_acc.iloc[k_svcl-1][3],\n",
        "        dt_acc.iloc[k_dt-1][3]\n",
        "]\n",
        "comp = [k_logreg,\n",
        "        k_lda,\n",
        "        k_nb,\n",
        "        k_knn,\n",
        "        k_svcl,\n",
        "        k_dt\n",
        "        ]"
      ]
    },
    {
      "cell_type": "code",
      "execution_count": 19,
      "metadata": {
        "colab": {
          "base_uri": "https://localhost:8080/",
          "height": 295
        },
        "id": "wVxGgJpo2Y21",
        "outputId": "c9430e0a-8433-4624-ac43-342906a8ab51"
      },
      "outputs": [
        {
          "output_type": "display_data",
          "data": {
            "text/plain": [
              "<Figure size 432x288 with 1 Axes>"
            ],
            "image/png": "[encoded data removed]"
          },
          "metadata": {
            "needs_background": "light"
          }
        }
      ],
      "source": [
        "plt.bar(methods, test)\n",
        "\n",
        "plt.title(\"Test Accuracies\")\n",
        "     \n",
        "plt.xlabel(\"Methods\")\n",
        "plt.ylabel(\"ROC AUC score\")\n",
        "\n",
        "plt.ylim(0.95, 1.01)\n",
        "  \n",
        "plt.show()"
      ]
    },
    {
      "cell_type": "code",
      "execution_count": 20,
      "metadata": {
        "colab": {
          "base_uri": "https://localhost:8080/"
        },
        "id": "JjyVlSvX2j1P",
        "outputId": "44e895bc-4f6e-453e-e054-08b0726c265e"
      },
      "outputs": [
        {
          "output_type": "stream",
          "name": "stdout",
          "text": [
            "8 8 7 2 7 10\n"
          ]
        }
      ],
      "source": [
        "print(k_logreg, k_lda, k_nb, k_knn, k_svcl, k_dt)"
      ]
    },
    {
      "cell_type": "markdown",
      "metadata": {
        "id": "DHvcpZX-5Naw"
      },
      "source": [
        "## Objective 3\n",
        "\n",
        "Apply Random Forest algorithm and tune the hyper-parameters for getting the best classification accuracy. "
      ]
    },
    {
      "cell_type": "markdown",
      "metadata": {
        "id": "h8Exq32Ww61E"
      },
      "source": [
        "Entire training data set will be used, and Random Search from sklearn.model_selection for hyperparameter tuning"
      ]
    },
    {
      "cell_type": "code",
      "execution_count": 21,
      "metadata": {
        "colab": {
          "base_uri": "https://localhost:8080/"
        },
        "id": "AC50V46d4rBS",
        "outputId": "bea57478-c8b3-410f-a7f1-560026c34a5b"
      },
      "outputs": [
        {
          "output_type": "stream",
          "name": "stdout",
          "text": [
            "Fitting 5 folds for each of 10 candidates, totalling 50 fits\n",
            "Fitting 5 folds for each of 10 candidates, totalling 50 fits\n"
          ]
        }
      ],
      "source": [
        "from sklearn.model_selection import RandomizedSearchCV\n",
        "from sklearn.ensemble import RandomForestClassifier\n",
        "\n",
        "rfr = RandomForestClassifier(max_depth=2, random_state=0)\n",
        "\n",
        "param = {\n",
        "        'criterion' : ['gini', 'entropy', 'log_loss'],\n",
        "        'max_depth': [25, 150],\n",
        "        'max_features': [2, 3, 4, 5],\n",
        "        'min_samples_leaf': [2, 3, 4, 5],\n",
        "        'min_samples_split': [2, 3, 4, 5],\n",
        "        'n_estimators': [500,1000]\n",
        "}\n",
        "\n",
        "best_para = RandomizedSearchCV(rfr, param, verbose = 2, n_jobs=-1).fit(X_train, y_train)\n",
        "\n",
        "rfr_best_model = best_para.fit(X_train, y_train)"
      ]
    },
    {
      "cell_type": "code",
      "execution_count": 22,
      "metadata": {
        "id": "OnsPi-wn18Iv"
      },
      "outputs": [],
      "source": [
        "y_train_proba = rfr_best_model.predict_proba(X_train)\n",
        "y_val_proba = rfr_best_model.predict_proba(X_val)\n",
        "y_test_proba = rfr_best_model.predict_proba(X_test)\n",
        "\n",
        "rfr_train_accuracy = roc_auc_score(y_train,  y_train_proba, multi_class='ovr')\n",
        "rfr_val_accuracy = roc_auc_score(y_val,  y_val_proba, multi_class='ovr')\n",
        "rfr_test_accuracy = roc_auc_score(y_test,  y_test_proba, multi_class='ovr')\n",
        "\n",
        "methods.append(\"Rand. For.\")\n",
        "train.append(rfr_train_accuracy)\n",
        "val.append(rfr_val_accuracy)\n",
        "test.append(rfr_test_accuracy)"
      ]
    },
    {
      "cell_type": "code",
      "execution_count": 23,
      "metadata": {
        "colab": {
          "base_uri": "https://localhost:8080/",
          "height": 295
        },
        "id": "mG6galvE5GM7",
        "outputId": "90e7d385-5860-4824-fdba-fe100bfad031"
      },
      "outputs": [
        {
          "output_type": "display_data",
          "data": {
            "text/plain": [
              "<Figure size 432x288 with 1 Axes>"
            ],
            "image/png": "[encoded data removed]"
          },
          "metadata": {
            "needs_background": "light"
          }
        }
      ],
      "source": [
        "plt.bar(methods, test)\n",
        "\n",
        "plt.title(\"Test Accuracies\")\n",
        "     \n",
        "plt.xlabel(\"Methods\")\n",
        "plt.ylabel(\"ROC AUC score\")\n",
        "\n",
        "plt.ylim(0.95, 1.01)\n",
        "  \n",
        "plt.show()"
      ]
    },
    {
      "cell_type": "code",
      "execution_count": 23,
      "metadata": {
        "id": "r3ds-TKG5G_c"
      },
      "outputs": [],
      "source": []
    }
  ],
  "metadata": {
    "colab": {
      "provenance": [],
      "authorship_tag": "ABX9TyPyLfJ2J8l3x5U4bAYGFc0c",
      "include_colab_link": true
    },
    "kernelspec": {
      "display_name": "Python 3",
      "name": "python3"
    },
    "language_info": {
      "name": "python"
    }
  },
  "nbformat": 4,
  "nbformat_minor": 0
}